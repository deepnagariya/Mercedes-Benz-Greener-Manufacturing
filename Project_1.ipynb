{
 "cells": [
  {
   "cell_type": "code",
   "execution_count": 51,
   "metadata": {},
   "outputs": [],
   "source": [
    "import pandas as pd\n",
    "import numpy as np\n",
    "from sklearn.decomposition import PCA \n"
   ]
  },
  {
   "cell_type": "code",
   "execution_count": 52,
   "metadata": {},
   "outputs": [],
   "source": [
    "df_train = pd.read_csv(\"train.csv\")\n",
    "df_train.shape\n",
    "df_test = pd.read_csv('test.csv')"
   ]
  },
  {
   "cell_type": "code",
   "execution_count": null,
   "metadata": {},
   "outputs": [],
   "source": [
    "y_train = df_train['y'].values"
   ]
  },
  {
   "cell_type": "code",
   "execution_count": 54,
   "metadata": {},
   "outputs": [],
   "source": [
    "cols = [c for c in df_train.columns if 'X' in c]\n",
    "print('Number of features: {}'.format(len(cols)))\n",
    "print('Feature types:')\n",
    "df_train[cols].dtypes.value_counts()"
   ]
  },
  {
   "cell_type": "code",
   "execution_count": 55,
   "metadata": {},
   "outputs": [
    {
     "data": {
      "text/plain": [
       "array([130.81,  88.53,  76.26, ..., 109.22,  87.48, 110.85])"
      ]
     },
     "execution_count": 55,
     "metadata": {},
     "output_type": "execute_result"
    }
   ],
   "source": [
    "counts = [[], [], []]\n",
    "for c in cols:\n",
    "    typ = df_train[c].dtype\n",
    "    uniq = len(np.unique(df_train[c]))\n",
    "    if uniq == 1:\n",
    "        counts[0].append(c)\n",
    "    elif uniq == 2 and typ == np.int64:\n",
    "        counts[1].append(c)\n",
    "    else:\n",
    "        counts[2].append(c)\n",
    "    \n",
    "print('Constant features: {} Binary features: {} Categorical features: {}\\n'.format(*[len(c) for c in counts]))\n",
    "print('Constant features:', counts[0])\n",
    "print('Categorical features:', counts[2])"
   ]
  },
  {
   "cell_type": "code",
   "execution_count": 56,
   "metadata": {},
   "outputs": [
    {
     "name": "stdout",
     "output_type": "stream",
     "text": [
      "Number of features: 376\n",
      "Feature types:\n"
     ]
    },
    {
     "data": {
      "text/plain": [
       "int64     368\n",
       "object      8\n",
       "dtype: int64"
      ]
     },
     "execution_count": 56,
     "metadata": {},
     "output_type": "execute_result"
    }
   ],
   "source": [
    "Columns_new = list(set(df_train.columns) - set(['ID','y']))"
   ]
  },
  {
   "cell_type": "code",
   "execution_count": 57,
   "metadata": {},
   "outputs": [
    {
     "name": "stdout",
     "output_type": "stream",
     "text": [
      "Constant features: 12 Binary features: 356 Categorical features: 8\n",
      "\n",
      "Constant features: ['X11', 'X93', 'X107', 'X233', 'X235', 'X268', 'X289', 'X290', 'X293', 'X297', 'X330', 'X347']\n",
      "Categorical features: ['X0', 'X1', 'X2', 'X3', 'X4', 'X5', 'X6', 'X8']\n"
     ]
    }
   ],
   "source": [
    "y_train = df_train['y'].values\n",
    "id_test = df_test['ID'].values\n",
    "x_train = df_train[Columns_new]\n",
    "x_test = df_test[Columns_new]"
   ]
  },
  {
   "cell_type": "code",
   "execution_count": 58,
   "metadata": {},
   "outputs": [],
   "source": [
    "\n",
    "def CHK(df):\n",
    "    if df.isnull().any().any():\n",
    "        print(\"no missing values\")\n",
    "    else:\n",
    "        print(\"no missing values\")\n",
    "CHK(x_train)\n",
    "CHK(x_test)"
   ]
  },
  {
   "cell_type": "code",
   "execution_count": 59,
   "metadata": {},
   "outputs": [],
   "source": [
    "for column in Columns_new:\n",
    "    cardinality = len(np.unique(x_train[column]))\n",
    "    if cardinality == 1:\n",
    "        x_train.drop(column, axis=1) # Column with only one\n",
    "    # value is useless so we drop it\n",
    "    x_test.drop(column, axis=1)\n",
    "    if cardinality > 2: # Column is categorical\n",
    "        mapper = lambda x: sum([ord(digit) for digit in x])\n",
    "        x_train[column] = x_train[column].apply(mapper)\n",
    "        x_test[column] = x_test[column].apply(mapper)\n",
    "x_train.head()"
   ]
  },
  {
   "cell_type": "code",
   "execution_count": 60,
   "metadata": {},
   "outputs": [
    {
     "name": "stdout",
     "output_type": "stream",
     "text": [
      "no missing values\n",
      "no missing values\n"
     ]
    }
   ],
   "source": [
    "x_train[cols].dtypes.value_counts()\n",
    "n_comp = 12\n",
    "pca = PCA(n_components=n_comp, random_state=20)\n",
    "pca2_results_train = pca.fit_transform(x_train)\n",
    "pca2_results_test = pca.transform(x_test)\n"
   ]
  },
  {
   "cell_type": "code",
   "execution_count": 61,
   "metadata": {},
   "outputs": [
    {
     "name": "stderr",
     "output_type": "stream",
     "text": [
      "C:\\ProgramData\\Anaconda3\\lib\\site-packages\\ipykernel_launcher.py:12: SettingWithCopyWarning: \n",
      "A value is trying to be set on a copy of a slice from a DataFrame.\n",
      "Try using .loc[row_indexer,col_indexer] = value instead\n",
      "\n",
      "See the caveats in the documentation: http://pandas.pydata.org/pandas-docs/stable/user_guide/indexing.html#returning-a-view-versus-a-copy\n",
      "  if sys.path[0] == '':\n",
      "C:\\ProgramData\\Anaconda3\\lib\\site-packages\\ipykernel_launcher.py:13: SettingWithCopyWarning: \n",
      "A value is trying to be set on a copy of a slice from a DataFrame.\n",
      "Try using .loc[row_indexer,col_indexer] = value instead\n",
      "\n",
      "See the caveats in the documentation: http://pandas.pydata.org/pandas-docs/stable/user_guide/indexing.html#returning-a-view-versus-a-copy\n",
      "  del sys.path[0]\n"
     ]
    },
    {
     "data": {
      "text/html": [
       "<div>\n",
       "<style scoped>\n",
       "    .dataframe tbody tr th:only-of-type {\n",
       "        vertical-align: middle;\n",
       "    }\n",
       "\n",
       "    .dataframe tbody tr th {\n",
       "        vertical-align: top;\n",
       "    }\n",
       "\n",
       "    .dataframe thead th {\n",
       "        text-align: right;\n",
       "    }\n",
       "</style>\n",
       "<table border=\"1\" class=\"dataframe\">\n",
       "  <thead>\n",
       "    <tr style=\"text-align: right;\">\n",
       "      <th></th>\n",
       "      <th>X361</th>\n",
       "      <th>X374</th>\n",
       "      <th>X224</th>\n",
       "      <th>X244</th>\n",
       "      <th>X10</th>\n",
       "      <th>X205</th>\n",
       "      <th>X348</th>\n",
       "      <th>X240</th>\n",
       "      <th>X261</th>\n",
       "      <th>X263</th>\n",
       "      <th>...</th>\n",
       "      <th>X34</th>\n",
       "      <th>X300</th>\n",
       "      <th>X168</th>\n",
       "      <th>X238</th>\n",
       "      <th>X308</th>\n",
       "      <th>X16</th>\n",
       "      <th>X255</th>\n",
       "      <th>X98</th>\n",
       "      <th>X151</th>\n",
       "      <th>X290</th>\n",
       "    </tr>\n",
       "  </thead>\n",
       "  <tbody>\n",
       "    <tr>\n",
       "      <td>0</td>\n",
       "      <td>1</td>\n",
       "      <td>0</td>\n",
       "      <td>0</td>\n",
       "      <td>0</td>\n",
       "      <td>0</td>\n",
       "      <td>0</td>\n",
       "      <td>0</td>\n",
       "      <td>0</td>\n",
       "      <td>0</td>\n",
       "      <td>1</td>\n",
       "      <td>...</td>\n",
       "      <td>0</td>\n",
       "      <td>0</td>\n",
       "      <td>0</td>\n",
       "      <td>0</td>\n",
       "      <td>0</td>\n",
       "      <td>0</td>\n",
       "      <td>0</td>\n",
       "      <td>0</td>\n",
       "      <td>0</td>\n",
       "      <td>0</td>\n",
       "    </tr>\n",
       "    <tr>\n",
       "      <td>1</td>\n",
       "      <td>1</td>\n",
       "      <td>0</td>\n",
       "      <td>0</td>\n",
       "      <td>0</td>\n",
       "      <td>0</td>\n",
       "      <td>1</td>\n",
       "      <td>1</td>\n",
       "      <td>0</td>\n",
       "      <td>0</td>\n",
       "      <td>1</td>\n",
       "      <td>...</td>\n",
       "      <td>0</td>\n",
       "      <td>0</td>\n",
       "      <td>0</td>\n",
       "      <td>1</td>\n",
       "      <td>0</td>\n",
       "      <td>0</td>\n",
       "      <td>0</td>\n",
       "      <td>1</td>\n",
       "      <td>0</td>\n",
       "      <td>0</td>\n",
       "    </tr>\n",
       "    <tr>\n",
       "      <td>2</td>\n",
       "      <td>1</td>\n",
       "      <td>0</td>\n",
       "      <td>1</td>\n",
       "      <td>1</td>\n",
       "      <td>0</td>\n",
       "      <td>1</td>\n",
       "      <td>1</td>\n",
       "      <td>0</td>\n",
       "      <td>0</td>\n",
       "      <td>0</td>\n",
       "      <td>...</td>\n",
       "      <td>0</td>\n",
       "      <td>0</td>\n",
       "      <td>0</td>\n",
       "      <td>0</td>\n",
       "      <td>0</td>\n",
       "      <td>0</td>\n",
       "      <td>0</td>\n",
       "      <td>1</td>\n",
       "      <td>0</td>\n",
       "      <td>0</td>\n",
       "    </tr>\n",
       "    <tr>\n",
       "      <td>3</td>\n",
       "      <td>1</td>\n",
       "      <td>0</td>\n",
       "      <td>0</td>\n",
       "      <td>1</td>\n",
       "      <td>0</td>\n",
       "      <td>1</td>\n",
       "      <td>1</td>\n",
       "      <td>0</td>\n",
       "      <td>0</td>\n",
       "      <td>0</td>\n",
       "      <td>...</td>\n",
       "      <td>0</td>\n",
       "      <td>0</td>\n",
       "      <td>0</td>\n",
       "      <td>0</td>\n",
       "      <td>0</td>\n",
       "      <td>0</td>\n",
       "      <td>0</td>\n",
       "      <td>1</td>\n",
       "      <td>0</td>\n",
       "      <td>0</td>\n",
       "    </tr>\n",
       "    <tr>\n",
       "      <td>4</td>\n",
       "      <td>1</td>\n",
       "      <td>0</td>\n",
       "      <td>0</td>\n",
       "      <td>0</td>\n",
       "      <td>0</td>\n",
       "      <td>1</td>\n",
       "      <td>1</td>\n",
       "      <td>0</td>\n",
       "      <td>0</td>\n",
       "      <td>0</td>\n",
       "      <td>...</td>\n",
       "      <td>0</td>\n",
       "      <td>0</td>\n",
       "      <td>0</td>\n",
       "      <td>0</td>\n",
       "      <td>0</td>\n",
       "      <td>0</td>\n",
       "      <td>0</td>\n",
       "      <td>1</td>\n",
       "      <td>0</td>\n",
       "      <td>0</td>\n",
       "    </tr>\n",
       "  </tbody>\n",
       "</table>\n",
       "<p>5 rows × 376 columns</p>\n",
       "</div>"
      ],
      "text/plain": [
       "   X361  X374  X224  X244  X10  X205  X348  X240  X261  X263  ...  X34  X300  \\\n",
       "0     1     0     0     0    0     0     0     0     0     1  ...    0     0   \n",
       "1     1     0     0     0    0     1     1     0     0     1  ...    0     0   \n",
       "2     1     0     1     1    0     1     1     0     0     0  ...    0     0   \n",
       "3     1     0     0     1    0     1     1     0     0     0  ...    0     0   \n",
       "4     1     0     0     0    0     1     1     0     0     0  ...    0     0   \n",
       "\n",
       "   X168  X238  X308  X16  X255  X98  X151  X290  \n",
       "0     0     0     0    0     0    0     0     0  \n",
       "1     0     1     0    0     0    1     0     0  \n",
       "2     0     0     0    0     0    1     0     0  \n",
       "3     0     0     0    0     0    1     0     0  \n",
       "4     0     0     0    0     0    1     0     0  \n",
       "\n",
       "[5 rows x 376 columns]"
      ]
     },
     "execution_count": 61,
     "metadata": {},
     "output_type": "execute_result"
    }
   ],
   "source": [
    "import xgboost as xgb\n",
    "from sklearn.metrics import r2_score\n",
    "from sklearn.model_selection import train_test_split\n",
    "\n",
    "x_train, x_valid, y_train, y_valid = train_test_split(pca2_results_train,y_train, test_size=0.2,random_state=35)\n",
    "\n",
    "d_train = xgb.DMatrix(x_train, label=y_train)\n",
    "d_valid = xgb.DMatrix(x_valid, label=y_valid)\n",
    "#d_test = xgb.DMatrix(x_test)\n",
    "d_test = xgb.DMatrix(pca2_results_test)\n",
    "\n",
    "\n",
    "\n"
   ]
  },
  {
   "cell_type": "code",
   "execution_count": 62,
   "metadata": {},
   "outputs": [],
   "source": []
  },
  {
   "cell_type": "code",
   "execution_count": 63,
   "metadata": {},
   "outputs": [
    {
     "name": "stdout",
     "output_type": "stream",
     "text": [
      "[15:43:43] WARNING: C:/Users/Administrator/workspace/xgboost-win64_release_1.1.0/src/objective/regression_obj.cu:170: reg:linear is now deprecated in favor of reg:squarederror.\n",
      "[0]\ttrain-rmse:99.04150\tvalid-rmse:98.70239\ttrain-r2:-59.47071\tvalid-r2:-61.96931\n",
      "Multiple eval metrics have been passed: 'valid-r2' will be used for early stopping.\n",
      "\n",
      "Will train until valid-r2 hasn't improved in 50 rounds.\n",
      "[10]\ttrain-rmse:81.18310\tvalid-rmse:80.84457\ttrain-r2:-39.62955\tvalid-r2:-41.24502\n",
      "[20]\ttrain-rmse:66.63157\tvalid-rmse:66.31034\ttrain-r2:-26.36975\tvalid-r2:-27.42080\n",
      "[30]\ttrain-rmse:54.79031\tvalid-rmse:54.48565\ttrain-r2:-17.50624\tvalid-r2:-18.18837\n",
      "[40]\ttrain-rmse:45.17240\tvalid-rmse:44.87848\ttrain-r2:-11.57931\tvalid-r2:-12.01817\n",
      "[50]\ttrain-rmse:37.38147\tvalid-rmse:37.10155\ttrain-r2:-7.61437\tvalid-r2:-7.89729\n",
      "[60]\ttrain-rmse:31.08475\tvalid-rmse:30.81077\ttrain-r2:-4.95669\tvalid-r2:-5.13591\n",
      "[70]\ttrain-rmse:26.02225\tvalid-rmse:25.75129\ttrain-r2:-3.17446\tvalid-r2:-3.28620\n",
      "[80]\ttrain-rmse:21.97581\tvalid-rmse:21.70392\ttrain-r2:-1.97715\tvalid-r2:-2.04474\n",
      "[90]\ttrain-rmse:18.76038\tvalid-rmse:18.51956\ttrain-r2:-1.16967\tvalid-r2:-1.21684\n",
      "[100]\ttrain-rmse:16.23822\tvalid-rmse:16.03058\ttrain-r2:-0.62550\tvalid-r2:-0.66101\n",
      "[110]\ttrain-rmse:14.28560\tvalid-rmse:14.12169\ttrain-r2:-0.25808\tvalid-r2:-0.28898\n",
      "[120]\ttrain-rmse:12.79751\tvalid-rmse:12.68434\ttrain-r2:-0.00963\tvalid-r2:-0.03994\n",
      "[130]\ttrain-rmse:11.66980\tvalid-rmse:11.61849\ttrain-r2:0.16047\tvalid-r2:0.12748\n",
      "[140]\ttrain-rmse:10.82814\tvalid-rmse:10.84801\ttrain-r2:0.27720\tvalid-r2:0.23937\n",
      "[150]\ttrain-rmse:10.19603\tvalid-rmse:10.29407\ttrain-r2:0.35913\tvalid-r2:0.31507\n",
      "[160]\ttrain-rmse:9.74740\tvalid-rmse:9.91110\ttrain-r2:0.41428\tvalid-r2:0.36508\n",
      "[170]\ttrain-rmse:9.42132\tvalid-rmse:9.64146\ttrain-r2:0.45282\tvalid-r2:0.39916\n",
      "[180]\ttrain-rmse:9.17672\tvalid-rmse:9.45435\ttrain-r2:0.48086\tvalid-r2:0.42225\n",
      "[190]\ttrain-rmse:8.98255\tvalid-rmse:9.33140\ttrain-r2:0.50260\tvalid-r2:0.43718\n",
      "[200]\ttrain-rmse:8.84733\tvalid-rmse:9.24928\ttrain-r2:0.51746\tvalid-r2:0.44705\n",
      "[210]\ttrain-rmse:8.74914\tvalid-rmse:9.19070\ttrain-r2:0.52811\tvalid-r2:0.45403\n",
      "[220]\ttrain-rmse:8.67841\tvalid-rmse:9.14922\ttrain-r2:0.53571\tvalid-r2:0.45894\n",
      "[230]\ttrain-rmse:8.61728\tvalid-rmse:9.11569\ttrain-r2:0.54223\tvalid-r2:0.46290\n",
      "[240]\ttrain-rmse:8.57079\tvalid-rmse:9.09691\ttrain-r2:0.54715\tvalid-r2:0.46511\n",
      "[250]\ttrain-rmse:8.52579\tvalid-rmse:9.08043\ttrain-r2:0.55190\tvalid-r2:0.46705\n",
      "[260]\ttrain-rmse:8.49246\tvalid-rmse:9.06914\ttrain-r2:0.55539\tvalid-r2:0.46837\n",
      "[270]\ttrain-rmse:8.46504\tvalid-rmse:9.05737\ttrain-r2:0.55826\tvalid-r2:0.46975\n",
      "[280]\ttrain-rmse:8.44270\tvalid-rmse:9.05279\ttrain-r2:0.56059\tvalid-r2:0.47029\n",
      "[290]\ttrain-rmse:8.41492\tvalid-rmse:9.04791\ttrain-r2:0.56347\tvalid-r2:0.47086\n",
      "[300]\ttrain-rmse:8.38943\tvalid-rmse:9.04598\ttrain-r2:0.56611\tvalid-r2:0.47109\n",
      "[310]\ttrain-rmse:8.36044\tvalid-rmse:9.04093\ttrain-r2:0.56911\tvalid-r2:0.47168\n",
      "[320]\ttrain-rmse:8.33151\tvalid-rmse:9.03678\ttrain-r2:0.57208\tvalid-r2:0.47216\n",
      "[330]\ttrain-rmse:8.30380\tvalid-rmse:9.03222\ttrain-r2:0.57493\tvalid-r2:0.47269\n",
      "[340]\ttrain-rmse:8.27550\tvalid-rmse:9.03083\ttrain-r2:0.57782\tvalid-r2:0.47286\n",
      "[350]\ttrain-rmse:8.25459\tvalid-rmse:9.02774\ttrain-r2:0.57995\tvalid-r2:0.47322\n",
      "[360]\ttrain-rmse:8.22770\tvalid-rmse:9.02454\ttrain-r2:0.58268\tvalid-r2:0.47359\n",
      "[370]\ttrain-rmse:8.20476\tvalid-rmse:9.02231\ttrain-r2:0.58500\tvalid-r2:0.47385\n",
      "[380]\ttrain-rmse:8.17463\tvalid-rmse:9.02108\ttrain-r2:0.58805\tvalid-r2:0.47399\n",
      "[390]\ttrain-rmse:8.14605\tvalid-rmse:9.01614\ttrain-r2:0.59092\tvalid-r2:0.47457\n",
      "[400]\ttrain-rmse:8.11499\tvalid-rmse:9.01335\ttrain-r2:0.59404\tvalid-r2:0.47490\n",
      "[410]\ttrain-rmse:8.08766\tvalid-rmse:9.01116\ttrain-r2:0.59677\tvalid-r2:0.47515\n",
      "[420]\ttrain-rmse:8.06851\tvalid-rmse:9.01002\ttrain-r2:0.59867\tvalid-r2:0.47528\n",
      "[430]\ttrain-rmse:8.04146\tvalid-rmse:9.01051\ttrain-r2:0.60136\tvalid-r2:0.47523\n",
      "[440]\ttrain-rmse:8.01826\tvalid-rmse:9.00841\ttrain-r2:0.60366\tvalid-r2:0.47547\n",
      "[450]\ttrain-rmse:7.99330\tvalid-rmse:9.00465\ttrain-r2:0.60612\tvalid-r2:0.47591\n",
      "[460]\ttrain-rmse:7.96281\tvalid-rmse:9.00382\ttrain-r2:0.60912\tvalid-r2:0.47601\n",
      "[470]\ttrain-rmse:7.92897\tvalid-rmse:9.00038\ttrain-r2:0.61244\tvalid-r2:0.47641\n",
      "[480]\ttrain-rmse:7.90437\tvalid-rmse:9.00123\ttrain-r2:0.61484\tvalid-r2:0.47631\n",
      "[490]\ttrain-rmse:7.87299\tvalid-rmse:8.99948\ttrain-r2:0.61789\tvalid-r2:0.47651\n",
      "[500]\ttrain-rmse:7.85183\tvalid-rmse:8.99876\ttrain-r2:0.61994\tvalid-r2:0.47659\n",
      "[510]\ttrain-rmse:7.82470\tvalid-rmse:8.99847\ttrain-r2:0.62256\tvalid-r2:0.47663\n",
      "[520]\ttrain-rmse:7.80249\tvalid-rmse:8.99821\ttrain-r2:0.62470\tvalid-r2:0.47666\n",
      "[530]\ttrain-rmse:7.78171\tvalid-rmse:8.99747\ttrain-r2:0.62670\tvalid-r2:0.47674\n",
      "[540]\ttrain-rmse:7.76155\tvalid-rmse:8.99624\ttrain-r2:0.62863\tvalid-r2:0.47689\n",
      "[550]\ttrain-rmse:7.74025\tvalid-rmse:8.99394\ttrain-r2:0.63067\tvalid-r2:0.47715\n",
      "[560]\ttrain-rmse:7.71530\tvalid-rmse:8.99372\ttrain-r2:0.63304\tvalid-r2:0.47718\n",
      "[570]\ttrain-rmse:7.69898\tvalid-rmse:8.99432\ttrain-r2:0.63459\tvalid-r2:0.47711\n",
      "[580]\ttrain-rmse:7.68065\tvalid-rmse:8.99173\ttrain-r2:0.63633\tvalid-r2:0.47741\n",
      "[590]\ttrain-rmse:7.66357\tvalid-rmse:8.99054\ttrain-r2:0.63795\tvalid-r2:0.47755\n",
      "[600]\ttrain-rmse:7.63724\tvalid-rmse:8.99124\ttrain-r2:0.64043\tvalid-r2:0.47747\n",
      "[610]\ttrain-rmse:7.62298\tvalid-rmse:8.99168\ttrain-r2:0.64177\tvalid-r2:0.47742\n",
      "[620]\ttrain-rmse:7.60773\tvalid-rmse:8.99306\ttrain-r2:0.64320\tvalid-r2:0.47726\n",
      "[630]\ttrain-rmse:7.59036\tvalid-rmse:8.99265\ttrain-r2:0.64483\tvalid-r2:0.47730\n",
      "[640]\ttrain-rmse:7.57303\tvalid-rmse:8.99169\ttrain-r2:0.64645\tvalid-r2:0.47741\n",
      "Stopping. Best iteration:\n",
      "[593]\ttrain-rmse:7.65176\tvalid-rmse:8.98975\ttrain-r2:0.63906\tvalid-r2:0.47764\n",
      "\n",
      "[15:43:45] WARNING: C:/Users/Administrator/workspace/xgboost-win64_release_1.1.0/src/objective/regression_obj.cu:170: reg:linear is now deprecated in favor of reg:squarederror.\n"
     ]
    },
    {
     "data": {
      "text/html": [
       "<div>\n",
       "<style scoped>\n",
       "    .dataframe tbody tr th:only-of-type {\n",
       "        vertical-align: middle;\n",
       "    }\n",
       "\n",
       "    .dataframe tbody tr th {\n",
       "        vertical-align: top;\n",
       "    }\n",
       "\n",
       "    .dataframe thead th {\n",
       "        text-align: right;\n",
       "    }\n",
       "</style>\n",
       "<table border=\"1\" class=\"dataframe\">\n",
       "  <thead>\n",
       "    <tr style=\"text-align: right;\">\n",
       "      <th></th>\n",
       "      <th>ID</th>\n",
       "      <th>y</th>\n",
       "    </tr>\n",
       "  </thead>\n",
       "  <tbody>\n",
       "    <tr>\n",
       "      <td>0</td>\n",
       "      <td>1</td>\n",
       "      <td>79.049286</td>\n",
       "    </tr>\n",
       "    <tr>\n",
       "      <td>1</td>\n",
       "      <td>2</td>\n",
       "      <td>96.350510</td>\n",
       "    </tr>\n",
       "    <tr>\n",
       "      <td>2</td>\n",
       "      <td>3</td>\n",
       "      <td>81.374931</td>\n",
       "    </tr>\n",
       "    <tr>\n",
       "      <td>3</td>\n",
       "      <td>4</td>\n",
       "      <td>77.107979</td>\n",
       "    </tr>\n",
       "    <tr>\n",
       "      <td>4</td>\n",
       "      <td>5</td>\n",
       "      <td>111.473167</td>\n",
       "    </tr>\n",
       "  </tbody>\n",
       "</table>\n",
       "</div>"
      ],
      "text/plain": [
       "   ID           y\n",
       "0   1   79.049286\n",
       "1   2   96.350510\n",
       "2   3   81.374931\n",
       "3   4   77.107979\n",
       "4   5  111.473167"
      ]
     },
     "execution_count": 63,
     "metadata": {},
     "output_type": "execute_result"
    }
   ],
   "source": [
    "\n",
    "\n",
    "params = {}\n",
    "params['objective'] = 'reg:linear'\n",
    "params['eta'] = 0.02\n",
    "params['max_depth'] = 4\n",
    "\n",
    "def xgb_r2_score(preds, dtrain):\n",
    "    labels = dtrain.get_label()\n",
    "    return 'r2', r2_score(labels, preds)\n",
    "\n",
    "watchlist = [(d_train, 'train'), (d_valid, 'valid')]\n",
    "\n",
    "clf = xgb.train(params, d_train,1000, watchlist, early_stopping_rounds=50, \n",
    "                feval=xgb_r2_score, maximize=True, verbose_eval=10)\n",
    "\n",
    "# Predict your test_df values using XGBoost.\n",
    "\n",
    "p_test = clf.predict(d_test)\n",
    "\n",
    "sub = pd.DataFrame()\n",
    "sub['ID'] = id_test\n",
    "sub['y'] = p_test\n",
    "sub.to_csv('xgb.csv', index=False)\n",
    "\n",
    "sub.head()"
   ]
  },
  {
   "cell_type": "code",
   "execution_count": 64,
   "metadata": {},
   "outputs": [
    {
     "name": "stdout",
     "output_type": "stream",
     "text": [
      "float64\n"
     ]
    }
   ],
   "source": [
    "percentiles = [98, 76.37, 55.55, 69, 88] \n",
    "first_subject = np.array(percentiles)\n",
    "print (first_subject.dtype)"
   ]
  },
  {
   "cell_type": "code",
   "execution_count": null,
   "metadata": {},
   "outputs": [],
   "source": []
  }
 ],
 "metadata": {
  "kernelspec": {
   "display_name": "Python 3",
   "language": "python",
   "name": "python3"
  },
  "language_info": {
   "codemirror_mode": {
    "name": "ipython",
    "version": 3
   },
   "file_extension": ".py",
   "mimetype": "text/x-python",
   "name": "python",
   "nbconvert_exporter": "python",
   "pygments_lexer": "ipython3",
   "version": "3.7.4"
  }
 },
 "nbformat": 4,
 "nbformat_minor": 2
}
